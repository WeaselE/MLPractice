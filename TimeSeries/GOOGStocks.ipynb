{
 "cells": [
  {
   "cell_type": "code",
   "execution_count": 1,
   "metadata": {},
   "outputs": [
    {
     "data": {
      "text/html": [
       "<div>\n",
       "<style scoped>\n",
       "    .dataframe tbody tr th:only-of-type {\n",
       "        vertical-align: middle;\n",
       "    }\n",
       "\n",
       "    .dataframe tbody tr th {\n",
       "        vertical-align: top;\n",
       "    }\n",
       "\n",
       "    .dataframe thead th {\n",
       "        text-align: right;\n",
       "    }\n",
       "</style>\n",
       "<table border=\"1\" class=\"dataframe\">\n",
       "  <thead>\n",
       "    <tr style=\"text-align: right;\">\n",
       "      <th></th>\n",
       "      <th>Date</th>\n",
       "      <th>Open</th>\n",
       "      <th>High</th>\n",
       "      <th>Low</th>\n",
       "      <th>Close</th>\n",
       "      <th>Volume</th>\n",
       "    </tr>\n",
       "  </thead>\n",
       "  <tbody>\n",
       "    <tr>\n",
       "      <th>0</th>\n",
       "      <td>10/07/2022</td>\n",
       "      <td>100.65</td>\n",
       "      <td>101.42</td>\n",
       "      <td>99.21</td>\n",
       "      <td>99.57</td>\n",
       "      <td>24,249,910</td>\n",
       "    </tr>\n",
       "    <tr>\n",
       "      <th>1</th>\n",
       "      <td>10/06/2022</td>\n",
       "      <td>101.50</td>\n",
       "      <td>103.73</td>\n",
       "      <td>101.50</td>\n",
       "      <td>102.24</td>\n",
       "      <td>17,156,240</td>\n",
       "    </tr>\n",
       "    <tr>\n",
       "      <th>2</th>\n",
       "      <td>10/05/2022</td>\n",
       "      <td>100.69</td>\n",
       "      <td>102.74</td>\n",
       "      <td>99.74</td>\n",
       "      <td>102.22</td>\n",
       "      <td>18,475,520</td>\n",
       "    </tr>\n",
       "    <tr>\n",
       "      <th>3</th>\n",
       "      <td>10/04/2022</td>\n",
       "      <td>101.04</td>\n",
       "      <td>102.72</td>\n",
       "      <td>101.04</td>\n",
       "      <td>102.41</td>\n",
       "      <td>22,580,930</td>\n",
       "    </tr>\n",
       "    <tr>\n",
       "      <th>4</th>\n",
       "      <td>10/03/2022</td>\n",
       "      <td>97.22</td>\n",
       "      <td>99.97</td>\n",
       "      <td>97.02</td>\n",
       "      <td>99.30</td>\n",
       "      <td>24,840,029</td>\n",
       "    </tr>\n",
       "  </tbody>\n",
       "</table>\n",
       "</div>"
      ],
      "text/plain": [
       "         Date    Open    High     Low   Close      Volume\n",
       "0  10/07/2022  100.65  101.42   99.21   99.57  24,249,910\n",
       "1  10/06/2022  101.50  103.73  101.50  102.24  17,156,240\n",
       "2  10/05/2022  100.69  102.74   99.74  102.22  18,475,520\n",
       "3  10/04/2022  101.04  102.72  101.04  102.41  22,580,930\n",
       "4  10/03/2022   97.22   99.97   97.02   99.30  24,840,029"
      ]
     },
     "execution_count": 1,
     "metadata": {},
     "output_type": "execute_result"
    }
   ],
   "source": [
    "# from sklearn.\n",
    "import pandas as pd\n",
    "\n",
    "df = pd.read_csv('goog.csv')\n",
    "df.head()"
   ]
  },
  {
   "cell_type": "code",
   "execution_count": 2,
   "metadata": {},
   "outputs": [
    {
     "data": {
      "text/html": [
       "<div>\n",
       "<style scoped>\n",
       "    .dataframe tbody tr th:only-of-type {\n",
       "        vertical-align: middle;\n",
       "    }\n",
       "\n",
       "    .dataframe tbody tr th {\n",
       "        vertical-align: top;\n",
       "    }\n",
       "\n",
       "    .dataframe thead th {\n",
       "        text-align: right;\n",
       "    }\n",
       "</style>\n",
       "<table border=\"1\" class=\"dataframe\">\n",
       "  <thead>\n",
       "    <tr style=\"text-align: right;\">\n",
       "      <th></th>\n",
       "      <th>Open</th>\n",
       "      <th>High</th>\n",
       "      <th>Low</th>\n",
       "      <th>Close</th>\n",
       "    </tr>\n",
       "  </thead>\n",
       "  <tbody>\n",
       "    <tr>\n",
       "      <th>count</th>\n",
       "      <td>253.000000</td>\n",
       "      <td>253.000000</td>\n",
       "      <td>253.000000</td>\n",
       "      <td>253.000000</td>\n",
       "    </tr>\n",
       "    <tr>\n",
       "      <th>mean</th>\n",
       "      <td>127.027154</td>\n",
       "      <td>128.603715</td>\n",
       "      <td>125.385020</td>\n",
       "      <td>126.928933</td>\n",
       "    </tr>\n",
       "    <tr>\n",
       "      <th>std</th>\n",
       "      <td>15.388440</td>\n",
       "      <td>15.192890</td>\n",
       "      <td>15.279104</td>\n",
       "      <td>15.230415</td>\n",
       "    </tr>\n",
       "    <tr>\n",
       "      <th>min</th>\n",
       "      <td>97.220000</td>\n",
       "      <td>99.300000</td>\n",
       "      <td>96.030000</td>\n",
       "      <td>96.150000</td>\n",
       "    </tr>\n",
       "    <tr>\n",
       "      <th>25%</th>\n",
       "      <td>113.600000</td>\n",
       "      <td>115.720000</td>\n",
       "      <td>112.250000</td>\n",
       "      <td>114.040000</td>\n",
       "    </tr>\n",
       "    <tr>\n",
       "      <th>50%</th>\n",
       "      <td>129.990000</td>\n",
       "      <td>131.250000</td>\n",
       "      <td>127.110000</td>\n",
       "      <td>128.370000</td>\n",
       "    </tr>\n",
       "    <tr>\n",
       "      <th>75%</th>\n",
       "      <td>140.850000</td>\n",
       "      <td>142.610000</td>\n",
       "      <td>139.700000</td>\n",
       "      <td>141.410000</td>\n",
       "    </tr>\n",
       "    <tr>\n",
       "      <th>max</th>\n",
       "      <td>151.860000</td>\n",
       "      <td>152.100000</td>\n",
       "      <td>149.890000</td>\n",
       "      <td>150.710000</td>\n",
       "    </tr>\n",
       "  </tbody>\n",
       "</table>\n",
       "</div>"
      ],
      "text/plain": [
       "             Open        High         Low       Close\n",
       "count  253.000000  253.000000  253.000000  253.000000\n",
       "mean   127.027154  128.603715  125.385020  126.928933\n",
       "std     15.388440   15.192890   15.279104   15.230415\n",
       "min     97.220000   99.300000   96.030000   96.150000\n",
       "25%    113.600000  115.720000  112.250000  114.040000\n",
       "50%    129.990000  131.250000  127.110000  128.370000\n",
       "75%    140.850000  142.610000  139.700000  141.410000\n",
       "max    151.860000  152.100000  149.890000  150.710000"
      ]
     },
     "execution_count": 2,
     "metadata": {},
     "output_type": "execute_result"
    }
   ],
   "source": [
    "df.describe()"
   ]
  },
  {
   "cell_type": "code",
   "execution_count": 7,
   "metadata": {},
   "outputs": [
    {
     "ename": "ModuleNotFoundError",
     "evalue": "No module named 'seaborn'",
     "output_type": "error",
     "traceback": [
      "\u001b[1;31m---------------------------------------------------------------------------\u001b[0m",
      "\u001b[1;31mModuleNotFoundError\u001b[0m                       Traceback (most recent call last)",
      "\u001b[1;32mc:\\Users\\Wesley\\Desktop\\OneDrive - Indiana University\\_Workspace\\ml\\ml_exploration\\TimeSeries\\GOOGStocks.ipynb Cell 3\u001b[0m in \u001b[0;36m<cell line: 1>\u001b[1;34m()\u001b[0m\n\u001b[1;32m----> <a href='vscode-notebook-cell:/c%3A/Users/Wesley/Desktop/OneDrive%20-%20Indiana%20University/_Workspace/ml/ml_exploration/TimeSeries/GOOGStocks.ipynb#W2sZmlsZQ%3D%3D?line=0'>1</a>\u001b[0m \u001b[39mimport\u001b[39;00m \u001b[39mseaborn\u001b[39;00m \u001b[39mas\u001b[39;00m \u001b[39msns\u001b[39;00m\n\u001b[0;32m      <a href='vscode-notebook-cell:/c%3A/Users/Wesley/Desktop/OneDrive%20-%20Indiana%20University/_Workspace/ml/ml_exploration/TimeSeries/GOOGStocks.ipynb#W2sZmlsZQ%3D%3D?line=2'>3</a>\u001b[0m sns\u001b[39m.\u001b[39mlineplot(data\u001b[39m=\u001b[39mdf, x\u001b[39m=\u001b[39m\u001b[39m'\u001b[39m\u001b[39mDate\u001b[39m\u001b[39m'\u001b[39m)\n",
      "\u001b[1;31mModuleNotFoundError\u001b[0m: No module named 'seaborn'"
     ]
    }
   ],
   "source": [
    "import seaborn as sns\n",
    "\n",
    "sns.lineplot(data=df, x='Date')"
   ]
  },
  {
   "cell_type": "code",
   "execution_count": null,
   "metadata": {},
   "outputs": [],
   "source": []
  }
 ],
 "metadata": {
  "kernelspec": {
   "display_name": "Python 3.10.6 ('sklearn-env')",
   "language": "python",
   "name": "python3"
  },
  "language_info": {
   "codemirror_mode": {
    "name": "ipython",
    "version": 3
   },
   "file_extension": ".py",
   "mimetype": "text/x-python",
   "name": "python",
   "nbconvert_exporter": "python",
   "pygments_lexer": "ipython3",
   "version": "3.10.6"
  },
  "orig_nbformat": 4,
  "vscode": {
   "interpreter": {
    "hash": "45fc59574a2a6c1cf249cb7c0580ecb1a4eb952d9bac4283df1ffbc58680e345"
   }
  }
 },
 "nbformat": 4,
 "nbformat_minor": 2
}
