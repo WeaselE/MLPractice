{
 "cells": [
  {
   "cell_type": "code",
   "execution_count": 22,
   "metadata": {},
   "outputs": [],
   "source": [
    "from sklearn.model_selection import train_test_split\n",
    "from sklearn.linear_model import LogisticRegression\n",
    "import pandas as pd\n",
    "import matplotlib.pyplot as plt\n",
    "import numpy as np\n"
   ]
  },
  {
   "cell_type": "code",
   "execution_count": 23,
   "metadata": {},
   "outputs": [
    {
     "data": {
      "text/html": [
       "<div>\n",
       "<style scoped>\n",
       "    .dataframe tbody tr th:only-of-type {\n",
       "        vertical-align: middle;\n",
       "    }\n",
       "\n",
       "    .dataframe tbody tr th {\n",
       "        vertical-align: top;\n",
       "    }\n",
       "\n",
       "    .dataframe thead th {\n",
       "        text-align: right;\n",
       "    }\n",
       "</style>\n",
       "<table border=\"1\" class=\"dataframe\">\n",
       "  <thead>\n",
       "    <tr style=\"text-align: right;\">\n",
       "      <th></th>\n",
       "      <th>age</th>\n",
       "      <th>workclass</th>\n",
       "      <th>fnlwgt</th>\n",
       "      <th>education</th>\n",
       "      <th>education-num</th>\n",
       "      <th>marital-status</th>\n",
       "      <th>occupation</th>\n",
       "      <th>relationship</th>\n",
       "      <th>race</th>\n",
       "      <th>sex</th>\n",
       "      <th>capital-gain</th>\n",
       "      <th>capital-loss</th>\n",
       "      <th>hours-per-week</th>\n",
       "      <th>native-country</th>\n",
       "      <th>salary</th>\n",
       "    </tr>\n",
       "  </thead>\n",
       "  <tbody>\n",
       "    <tr>\n",
       "      <th>0</th>\n",
       "      <td>50</td>\n",
       "      <td>Self-emp-not-inc</td>\n",
       "      <td>83311</td>\n",
       "      <td>Bachelors</td>\n",
       "      <td>13</td>\n",
       "      <td>Married-civ-spouse</td>\n",
       "      <td>Exec-managerial</td>\n",
       "      <td>Husband</td>\n",
       "      <td>White</td>\n",
       "      <td>Male</td>\n",
       "      <td>0</td>\n",
       "      <td>0</td>\n",
       "      <td>13</td>\n",
       "      <td>United-States</td>\n",
       "      <td>&lt;=50K</td>\n",
       "    </tr>\n",
       "    <tr>\n",
       "      <th>1</th>\n",
       "      <td>38</td>\n",
       "      <td>Private</td>\n",
       "      <td>215646</td>\n",
       "      <td>HS-grad</td>\n",
       "      <td>9</td>\n",
       "      <td>Divorced</td>\n",
       "      <td>Handlers-cleaners</td>\n",
       "      <td>Not-in-family</td>\n",
       "      <td>White</td>\n",
       "      <td>Male</td>\n",
       "      <td>0</td>\n",
       "      <td>0</td>\n",
       "      <td>40</td>\n",
       "      <td>United-States</td>\n",
       "      <td>&lt;=50K</td>\n",
       "    </tr>\n",
       "    <tr>\n",
       "      <th>2</th>\n",
       "      <td>53</td>\n",
       "      <td>Private</td>\n",
       "      <td>234721</td>\n",
       "      <td>11th</td>\n",
       "      <td>7</td>\n",
       "      <td>Married-civ-spouse</td>\n",
       "      <td>Handlers-cleaners</td>\n",
       "      <td>Husband</td>\n",
       "      <td>Black</td>\n",
       "      <td>Male</td>\n",
       "      <td>0</td>\n",
       "      <td>0</td>\n",
       "      <td>40</td>\n",
       "      <td>United-States</td>\n",
       "      <td>&lt;=50K</td>\n",
       "    </tr>\n",
       "    <tr>\n",
       "      <th>3</th>\n",
       "      <td>28</td>\n",
       "      <td>Private</td>\n",
       "      <td>338409</td>\n",
       "      <td>Bachelors</td>\n",
       "      <td>13</td>\n",
       "      <td>Married-civ-spouse</td>\n",
       "      <td>Prof-specialty</td>\n",
       "      <td>Wife</td>\n",
       "      <td>Black</td>\n",
       "      <td>Female</td>\n",
       "      <td>0</td>\n",
       "      <td>0</td>\n",
       "      <td>40</td>\n",
       "      <td>Cuba</td>\n",
       "      <td>&lt;=50K</td>\n",
       "    </tr>\n",
       "    <tr>\n",
       "      <th>4</th>\n",
       "      <td>37</td>\n",
       "      <td>Private</td>\n",
       "      <td>284582</td>\n",
       "      <td>Masters</td>\n",
       "      <td>14</td>\n",
       "      <td>Married-civ-spouse</td>\n",
       "      <td>Exec-managerial</td>\n",
       "      <td>Wife</td>\n",
       "      <td>White</td>\n",
       "      <td>Female</td>\n",
       "      <td>0</td>\n",
       "      <td>0</td>\n",
       "      <td>40</td>\n",
       "      <td>United-States</td>\n",
       "      <td>&lt;=50K</td>\n",
       "    </tr>\n",
       "  </tbody>\n",
       "</table>\n",
       "</div>"
      ],
      "text/plain": [
       "   age          workclass  fnlwgt   education  education-num  \\\n",
       "0   50   Self-emp-not-inc   83311   Bachelors             13   \n",
       "1   38            Private  215646     HS-grad              9   \n",
       "2   53            Private  234721        11th              7   \n",
       "3   28            Private  338409   Bachelors             13   \n",
       "4   37            Private  284582     Masters             14   \n",
       "\n",
       "        marital-status          occupation    relationship    race      sex  \\\n",
       "0   Married-civ-spouse     Exec-managerial         Husband   White     Male   \n",
       "1             Divorced   Handlers-cleaners   Not-in-family   White     Male   \n",
       "2   Married-civ-spouse   Handlers-cleaners         Husband   Black     Male   \n",
       "3   Married-civ-spouse      Prof-specialty            Wife   Black   Female   \n",
       "4   Married-civ-spouse     Exec-managerial            Wife   White   Female   \n",
       "\n",
       "   capital-gain  capital-loss  hours-per-week  native-country  salary  \n",
       "0             0             0              13   United-States   <=50K  \n",
       "1             0             0              40   United-States   <=50K  \n",
       "2             0             0              40   United-States   <=50K  \n",
       "3             0             0              40            Cuba   <=50K  \n",
       "4             0             0              40   United-States   <=50K  "
      ]
     },
     "execution_count": 23,
     "metadata": {},
     "output_type": "execute_result"
    }
   ],
   "source": [
    "# Setup X and y variables\n",
    "data = pd.read_csv(\"adult.data\")\n",
    "cols = [\n",
    "    \"age\",\n",
    "    \"workclass\",\n",
    "    \"fnlwgt\",\n",
    "    \"education\",\n",
    "    \"education-num\",\n",
    "    \"marital-status\",\n",
    "    \"occupation\",\n",
    "    \"relationship\",\n",
    "    \"race\",\n",
    "    \"sex\",\n",
    "    \"capital-gain\",\n",
    "    \"capital-loss\",\n",
    "    \"hours-per-week\",\n",
    "    \"native-country\",\n",
    "    \"salary\",\n",
    "]\n",
    "data.columns = cols\n",
    "data.head()"
   ]
  },
  {
   "cell_type": "code",
   "execution_count": 24,
   "metadata": {},
   "outputs": [],
   "source": [
    "X = np.array(data[\"age\"])\n",
    "y = np.array(data[\"salary\"])\n",
    "X_train, X_test, y_train, y_test = train_test_split(X, y, test_size=0.2)"
   ]
  },
  {
   "cell_type": "code",
   "execution_count": 25,
   "metadata": {},
   "outputs": [],
   "source": [
    "X_train = X_train.reshape(-1, 1)\n",
    "X_test = X_test.reshape(-1, 1)"
   ]
  },
  {
   "cell_type": "code",
   "execution_count": 46,
   "metadata": {},
   "outputs": [],
   "source": [
    "score_results = []\n",
    "for n in range(1, 75):\n",
    "    model = LogisticRegression(n_neighbors=n)\n",
    "    model.fit(X_train, y_train)\n",
    "    score_results.append(model.score(X_test, y_test))"
   ]
  },
  {
   "cell_type": "code",
   "execution_count": 47,
   "metadata": {},
   "outputs": [
    {
     "data": {
      "text/plain": [
       "[<matplotlib.lines.Line2D at 0x288514f2da0>]"
      ]
     },
     "execution_count": 47,
     "metadata": {},
     "output_type": "execute_result"
    },
    {
     "data": {
      "image/png": "[encoded data removed]",
      "text/plain": [
       "<Figure size 432x288 with 1 Axes>"
      ]
     },
     "metadata": {
      "needs_background": "light"
     },
     "output_type": "display_data"
    }
   ],
   "source": [
    "plt.plot(np.arange(1, 75), score_results)"
   ]
  },
  {
   "cell_type": "code",
   "execution_count": 48,
   "metadata": {},
   "outputs": [
    {
     "name": "stdout",
     "output_type": "stream",
     "text": [
      "57:\t0.7612100737100738\n"
     ]
    }
   ],
   "source": [
    "print(f\"{score_results.index(max(score_results))}:\\t{max(score_results)}\")"
   ]
  },
  {
   "cell_type": "code",
   "execution_count": 60,
   "metadata": {},
   "outputs": [],
   "source": [
    "model = KNeighborsClassifier(n_neighbors=57)\n"
   ]
  },
  {
   "cell_type": "code",
   "execution_count": 52,
   "metadata": {},
   "outputs": [
    {
     "name": "stdout",
     "output_type": "stream",
     "text": [
      "0.7588605651105651\n"
     ]
    }
   ],
   "source": [
    "score_results = []\n",
    "for state in range(10):\n",
    "    X_train, X_test, y_train, y_test = train_test_split(\n",
    "        X, y, test_size=0.2, random_state=state\n",
    "    )\n",
    "    X_train = X_train.reshape(-1, 1)\n",
    "    X_test = X_test.reshape(-1, 1)\n",
    "    model.fit(X_train, y_train)\n",
    "    score_results.append(model.score(X_test, y_test))\n",
    "print(f\"{np.mean(score_results)}\")"
   ]
  },
  {
   "cell_type": "code",
   "execution_count": 61,
   "metadata": {},
   "outputs": [],
   "source": [
    "model = KNeighborsClassifier(n_neighbors=57).fit(X.reshape(-1, 1), y)"
   ]
  },
  {
   "cell_type": "code",
   "execution_count": 63,
   "metadata": {},
   "outputs": [
    {
     "name": "stdout",
     "output_type": "stream",
     "text": [
      "1\t[' <=50K']\n",
      "2\t[' <=50K']\n",
      "3\t[' <=50K']\n",
      "4\t[' <=50K']\n",
      "5\t[' <=50K']\n",
      "6\t[' <=50K']\n",
      "7\t[' <=50K']\n",
      "8\t[' <=50K']\n",
      "9\t[' <=50K']\n",
      "10\t[' <=50K']\n",
      "11\t[' <=50K']\n",
      "12\t[' <=50K']\n",
      "13\t[' <=50K']\n",
      "14\t[' <=50K']\n",
      "15\t[' <=50K']\n",
      "16\t[' <=50K']\n",
      "17\t[' <=50K']\n",
      "18\t[' <=50K']\n",
      "19\t[' <=50K']\n",
      "20\t[' <=50K']\n",
      "21\t[' <=50K']\n",
      "22\t[' <=50K']\n",
      "23\t[' <=50K']\n",
      "24\t[' <=50K']\n",
      "25\t[' <=50K']\n",
      "26\t[' <=50K']\n",
      "27\t[' <=50K']\n",
      "28\t[' <=50K']\n",
      "29\t[' <=50K']\n",
      "30\t[' <=50K']\n",
      "31\t[' <=50K']\n",
      "32\t[' <=50K']\n",
      "33\t[' <=50K']\n",
      "34\t[' <=50K']\n",
      "35\t[' <=50K']\n",
      "36\t[' <=50K']\n",
      "37\t[' <=50K']\n",
      "38\t[' <=50K']\n",
      "39\t[' <=50K']\n",
      "40\t[' <=50K']\n",
      "41\t[' <=50K']\n",
      "42\t[' <=50K']\n",
      "43\t[' <=50K']\n",
      "44\t[' <=50K']\n",
      "45\t[' <=50K']\n",
      "46\t[' <=50K']\n",
      "47\t[' <=50K']\n",
      "48\t[' <=50K']\n",
      "49\t[' <=50K']\n",
      "50\t[' <=50K']\n",
      "51\t[' <=50K']\n",
      "52\t[' <=50K']\n",
      "53\t[' <=50K']\n",
      "54\t[' <=50K']\n",
      "55\t[' <=50K']\n",
      "56\t[' <=50K']\n",
      "57\t[' <=50K']\n",
      "58\t[' <=50K']\n",
      "59\t[' <=50K']\n",
      "60\t[' <=50K']\n",
      "61\t[' <=50K']\n",
      "62\t[' <=50K']\n",
      "63\t[' <=50K']\n",
      "64\t[' <=50K']\n",
      "65\t[' <=50K']\n",
      "66\t[' <=50K']\n",
      "67\t[' <=50K']\n",
      "68\t[' <=50K']\n",
      "69\t[' <=50K']\n",
      "70\t[' <=50K']\n",
      "71\t[' <=50K']\n",
      "72\t[' <=50K']\n",
      "73\t[' <=50K']\n",
      "74\t[' <=50K']\n",
      "75\t[' <=50K']\n",
      "76\t[' <=50K']\n",
      "77\t[' <=50K']\n",
      "78\t[' <=50K']\n",
      "79\t[' <=50K']\n",
      "80\t[' <=50K']\n",
      "81\t[' <=50K']\n",
      "82\t[' <=50K']\n",
      "83\t[' <=50K']\n",
      "84\t[' <=50K']\n",
      "85\t[' <=50K']\n",
      "86\t[' <=50K']\n",
      "87\t[' <=50K']\n",
      "88\t[' <=50K']\n",
      "89\t[' <=50K']\n",
      "90\t[' <=50K']\n",
      "91\t[' <=50K']\n",
      "92\t[' <=50K']\n",
      "93\t[' <=50K']\n",
      "94\t[' <=50K']\n",
      "95\t[' <=50K']\n",
      "96\t[' <=50K']\n",
      "97\t[' <=50K']\n",
      "98\t[' <=50K']\n",
      "99\t[' <=50K']\n"
     ]
    }
   ],
   "source": [
    "results = []\n",
    "for i in range(1, 100):\n",
    "    print(f\"{i}\\t{model.predict([[i]])}\")"
   ]
  },
  {
   "cell_type": "code",
   "execution_count": null,
   "metadata": {},
   "outputs": [],
   "source": []
  }
 ],
 "metadata": {
  "kernelspec": {
   "display_name": "Python 3.10.0 64-bit",
   "language": "python",
   "name": "python3"
  },
  "language_info": {
   "codemirror_mode": {
    "name": "ipython",
    "version": 3
   },
   "file_extension": ".py",
   "mimetype": "text/x-python",
   "name": "python",
   "nbconvert_exporter": "python",
   "pygments_lexer": "ipython3",
   "version": "3.10.0"
  },
  "orig_nbformat": 4,
  "vscode": {
   "interpreter": {
    "hash": "aaccc6683e319e2669102e2a606680ff26bcb7e3704b16d4ec352fba23be8ba6"
   }
  }
 },
 "nbformat": 4,
 "nbformat_minor": 2
}
